{
 "cells": [
  {
   "cell_type": "code",
   "execution_count": 2,
   "metadata": {},
   "outputs": [],
   "source": [
    "datos = np.array([8,5,9,8,5,2,4,8,12,58,69,47,58,96,32,65,89,47,51,25,56,32,28,89,94,96,95,9])"
   ]
  },
  {
   "cell_type": "code",
   "execution_count": 3,
   "metadata": {},
   "outputs": [
    {
     "name": "stdout",
     "output_type": "stream",
     "text": [
      "[ 8  5  9  8  5  2  4  8 12 58 69 47 58 96 32 65 89 47 51 25 56 32 28 89\n",
      " 94 96 95  9]\n"
     ]
    }
   ],
   "source": [
    "print(datos)"
   ]
  },
  {
   "cell_type": "code",
   "execution_count": 4,
   "metadata": {},
   "outputs": [
    {
     "name": "stdout",
     "output_type": "stream",
     "text": [
      "33.197057743980004\n",
      "42.75\n"
     ]
    }
   ],
   "source": [
    "print(datos.std())\n",
    "print(datos.mean())"
   ]
  },
  {
   "cell_type": "code",
   "execution_count": 5,
   "metadata": {},
   "outputs": [],
   "source": [
    "## FUNCIÓN MEDIA\n",
    "def media(valores):\n",
    "    resultado = sum(valores)/len(valores)\n",
    "    return resultado"
   ]
  },
  {
   "cell_type": "code",
   "execution_count": 6,
   "metadata": {},
   "outputs": [],
   "source": [
    "##FUNCIÓN DESVIACIÓN ESTÁNDAR\n",
    "def des_estandar(valores):\n",
    "    import math\n",
    "    calculo = []\n",
    "    for i in valores:\n",
    "        calculo.append((i-media(valores))**2)\n",
    "    suma = sum(calculo)\n",
    "    resultado = math.sqrt(suma/len(valores))\n",
    "    return resultado"
   ]
  },
  {
   "cell_type": "code",
   "execution_count": 7,
   "metadata": {},
   "outputs": [],
   "source": [
    "## FUNCIÓN COEFICIENTE DE ASIMETRÍA\n",
    "def cof_corre(valores):\n",
    "    calculo = []\n",
    "    for i in valores:\n",
    "        calculo.append((i-media(valores))**3)\n",
    "    suma= sum(calculo)\n",
    "    resultado = suma/((len(valores)*(des_estandar(valores)**3)))\n",
    "    return resultado"
   ]
  },
  {
   "cell_type": "code",
   "execution_count": 8,
   "metadata": {},
   "outputs": [],
   "source": [
    "## FUNCIÓN CURTOSIS\n",
    "def curtosis(valores):\n",
    "    calculo = []\n",
    "    for i in valores:\n",
    "        calculo.append((i-media(valores))**4)\n",
    "    suma = sum(calculo)\n",
    "    resultado = (suma/((len(valores)*(des_estandar(valores)**4))))-3\n",
    "    return resultado"
   ]
  },
  {
   "cell_type": "code",
   "execution_count": 9,
   "metadata": {},
   "outputs": [],
   "source": [
    "#ALGORITMO PRUEBA DE NORMALIDAD\n",
    "def prueba_normalidad(valores):\n",
    "    \n",
    "    #FUNCIÓN MEDIA\n",
    "    def media(valores):\n",
    "        resultado = sum(valores)/len(valores)\n",
    "        return resultado\n",
    "\n",
    "    #FUNCIÓN DESVIACIÓN ESTÁNDAR\n",
    "    def des_estandar(valores):\n",
    "        import math\n",
    "        calculo = []\n",
    "        for i in valores:\n",
    "            calculo.append((i-media(valores))**2)\n",
    "        suma = sum(calculo)\n",
    "        resultado = math.sqrt(suma/len(valores))\n",
    "        return resultado\n",
    "\n",
    "    #FUNCIÓN COEFICIENTE DE ASIMETRÍA\n",
    "    def cof_corre(valores):\n",
    "        calculo = []\n",
    "        for i in valores:\n",
    "            calculo.append((i-media(valores))**3)\n",
    "        suma= sum(calculo)\n",
    "        resultado = suma/((len(valores)*(des_estandar(valores)**3)))\n",
    "        return resultado\n",
    "\n",
    "    #FUNCIÓN CURTOSIS\n",
    "    def curtosis(valores):\n",
    "        calculo = []\n",
    "        for i in valores:\n",
    "            calculo.append((i-media(valores))**4)\n",
    "        suma = sum(calculo)\n",
    "        resultado = (suma/((len(valores)*(des_estandar(valores)**4))))\n",
    "        return resultado\n",
    "    \n",
    "    rmedia = str(media(valores))\n",
    "    rdesviación = str(des_estandar(valores))\n",
    "    rcoefi = str(cof_corre(valores))\n",
    "    vacurtosis = curtosis(valores)\n",
    "    curtosistexto=\"\"\n",
    "    vacoefi = cof_corre(valores)\n",
    "    coefitexto=\"\"\n",
    "    rcurtosis = str(curtosis(valores))\n",
    "    valorMax = str(max(valores))\n",
    "    valorMin = str(min(valores))\n",
    "    \n",
    "    if(vacoefi) == 0:\n",
    "        coefitexto = \"La distribución es perfectamente simétrica respecto a la media\"\n",
    "    elif (vacoefi) >0:\n",
    "        coefitexto = \"La distribución está sesgada a la derecha\"\n",
    "    else:\n",
    "        coefitexto = \"La distribución está sesgada a la izquierda\"\n",
    "        \n",
    "    \n",
    "    if(vacurtosis) == 3:\n",
    "        curtosistexto = \"La distribución es perfectamente normal\"\n",
    "    elif(vacurtosis) > 3:\n",
    "        curtosistexto = \"Los valores de la distribución están concentrados respecto a la media\"\n",
    "    else:\n",
    "        curtosistexto = \"Muchos valores de la distribución alejados de la media, tenemos el fenómeno de las colas gruesas\"\n",
    "    \n",
    "    \n",
    "    print(\"El número de datos es: \", len(valores))\n",
    "    print(\"El valor máximo de la serie de datos es: \", valorMax[:7])\n",
    "    print(\"El valor mínimo de la serie de datos es: \", valorMin[:7])\n",
    "    print(\"La media de los valores es: \", rmedia[:5])\n",
    "    print(\"La desviación estándar de los valores es: \", rdesviación[:7])\n",
    "    print(\"El coeficiente de asimetría de los valores es: \", rcoefi[:7])\n",
    "    print(coefitexto)\n",
    "    print(\"La curtosis de los valores es: \", rcurtosis[:8])\n",
    "    print(curtosistexto)\n",
    "   "
   ]
  },
  {
   "cell_type": "code",
   "execution_count": 10,
   "metadata": {},
   "outputs": [
    {
     "name": "stdout",
     "output_type": "stream",
     "text": [
      "El número de datos es:  28\n",
      "El valor máximo de la serie de datos es:  96\n",
      "El valor mínimo de la serie de datos es:  2\n",
      "La media de los valores es:  42.75\n",
      "La desviación estándar de los valores es:  33.1970\n",
      "El coeficiente de asimetría de los valores es:  0.33167\n",
      "La distribución está sesgada a la derecha\n",
      "La curtosis de los valores es:  1.692608\n",
      "Muchos valores de la distribución alejados de la media, tenemos el fenómeno de las colas gruesas\n"
     ]
    }
   ],
   "source": [
    "prueba_normalidad(datos)"
   ]
  },
  {
   "cell_type": "code",
   "execution_count": 12,
   "metadata": {},
   "outputs": [],
   "source": [
    "df = pdr.DataReader(\"SPY\", \"yahoo\", \"20000101\", \"20140612\")\n"
   ]
  },
  {
   "cell_type": "code",
   "execution_count": 13,
   "metadata": {},
   "outputs": [
    {
     "data": {
      "text/html": [
       "<div>\n",
       "<style scoped>\n",
       "    .dataframe tbody tr th:only-of-type {\n",
       "        vertical-align: middle;\n",
       "    }\n",
       "\n",
       "    .dataframe tbody tr th {\n",
       "        vertical-align: top;\n",
       "    }\n",
       "\n",
       "    .dataframe thead th {\n",
       "        text-align: right;\n",
       "    }\n",
       "</style>\n",
       "<table border=\"1\" class=\"dataframe\">\n",
       "  <thead>\n",
       "    <tr style=\"text-align: right;\">\n",
       "      <th></th>\n",
       "      <th>High</th>\n",
       "      <th>Low</th>\n",
       "      <th>Open</th>\n",
       "      <th>Close</th>\n",
       "      <th>Volume</th>\n",
       "      <th>Adj Close</th>\n",
       "    </tr>\n",
       "    <tr>\n",
       "      <th>Date</th>\n",
       "      <th></th>\n",
       "      <th></th>\n",
       "      <th></th>\n",
       "      <th></th>\n",
       "      <th></th>\n",
       "      <th></th>\n",
       "    </tr>\n",
       "  </thead>\n",
       "  <tbody>\n",
       "    <tr>\n",
       "      <th>2000-01-03</th>\n",
       "      <td>148.25000</td>\n",
       "      <td>143.875000</td>\n",
       "      <td>148.25000</td>\n",
       "      <td>145.4375</td>\n",
       "      <td>8164300.0</td>\n",
       "      <td>98.146072</td>\n",
       "    </tr>\n",
       "    <tr>\n",
       "      <th>2000-01-04</th>\n",
       "      <td>144.06250</td>\n",
       "      <td>139.640625</td>\n",
       "      <td>143.53125</td>\n",
       "      <td>139.7500</td>\n",
       "      <td>8089800.0</td>\n",
       "      <td>94.307983</td>\n",
       "    </tr>\n",
       "    <tr>\n",
       "      <th>2000-01-05</th>\n",
       "      <td>141.53125</td>\n",
       "      <td>137.250000</td>\n",
       "      <td>139.93750</td>\n",
       "      <td>140.0000</td>\n",
       "      <td>12177900.0</td>\n",
       "      <td>94.476685</td>\n",
       "    </tr>\n",
       "    <tr>\n",
       "      <th>2000-01-06</th>\n",
       "      <td>141.50000</td>\n",
       "      <td>137.750000</td>\n",
       "      <td>139.62500</td>\n",
       "      <td>137.7500</td>\n",
       "      <td>6227200.0</td>\n",
       "      <td>92.958336</td>\n",
       "    </tr>\n",
       "    <tr>\n",
       "      <th>2000-01-07</th>\n",
       "      <td>145.75000</td>\n",
       "      <td>140.062500</td>\n",
       "      <td>140.31250</td>\n",
       "      <td>145.7500</td>\n",
       "      <td>8066500.0</td>\n",
       "      <td>98.356987</td>\n",
       "    </tr>\n",
       "  </tbody>\n",
       "</table>\n",
       "</div>"
      ],
      "text/plain": [
       "                 High         Low       Open     Close      Volume  Adj Close\n",
       "Date                                                                         \n",
       "2000-01-03  148.25000  143.875000  148.25000  145.4375   8164300.0  98.146072\n",
       "2000-01-04  144.06250  139.640625  143.53125  139.7500   8089800.0  94.307983\n",
       "2000-01-05  141.53125  137.250000  139.93750  140.0000  12177900.0  94.476685\n",
       "2000-01-06  141.50000  137.750000  139.62500  137.7500   6227200.0  92.958336\n",
       "2000-01-07  145.75000  140.062500  140.31250  145.7500   8066500.0  98.356987"
      ]
     },
     "execution_count": 13,
     "metadata": {},
     "output_type": "execute_result"
    }
   ],
   "source": [
    "df.head()"
   ]
  },
  {
   "cell_type": "code",
   "execution_count": 14,
   "metadata": {},
   "outputs": [],
   "source": [
    "df = df[\"Close\"]   #extreamos del dataframe la columna del precio de cierre que es la que nos interesa"
   ]
  },
  {
   "cell_type": "code",
   "execution_count": 15,
   "metadata": {},
   "outputs": [
    {
     "data": {
      "text/plain": [
       "Date\n",
       "2000-01-03    145.4375\n",
       "2000-01-04    139.7500\n",
       "2000-01-05    140.0000\n",
       "2000-01-06    137.7500\n",
       "2000-01-07    145.7500\n",
       "Name: Close, dtype: float64"
      ]
     },
     "execution_count": 15,
     "metadata": {},
     "output_type": "execute_result"
    }
   ],
   "source": [
    "df.head()"
   ]
  },
  {
   "cell_type": "code",
   "execution_count": 16,
   "metadata": {},
   "outputs": [
    {
     "data": {
      "text/plain": [
       "3633"
      ]
     },
     "execution_count": 16,
     "metadata": {},
     "output_type": "execute_result"
    }
   ],
   "source": [
    "len(df)"
   ]
  },
  {
   "cell_type": "code",
   "execution_count": 17,
   "metadata": {},
   "outputs": [],
   "source": [
    "datos = df.to_numpy()   #trasformamos el data frame en un array para poder aplicar la funcion"
   ]
  },
  {
   "cell_type": "code",
   "execution_count": 18,
   "metadata": {},
   "outputs": [
    {
     "data": {
      "text/plain": [
       "numpy.ndarray"
      ]
     },
     "execution_count": 18,
     "metadata": {},
     "output_type": "execute_result"
    }
   ],
   "source": [
    "type(datos)"
   ]
  },
  {
   "cell_type": "code",
   "execution_count": 19,
   "metadata": {},
   "outputs": [
    {
     "data": {
      "text/plain": [
       "3633"
      ]
     },
     "execution_count": 19,
     "metadata": {},
     "output_type": "execute_result"
    }
   ],
   "source": [
    "len(datos)"
   ]
  },
  {
   "cell_type": "code",
   "execution_count": null,
   "metadata": {},
   "outputs": [],
   "source": [
    "prueba_normalidad(datos)"
   ]
  },
  {
   "cell_type": "code",
   "execution_count": null,
   "metadata": {},
   "outputs": [],
   "source": [
    "def graficar(valores, eje_x, eje_y, titulo):\n",
    "    \n",
    "    #FUNCIÓN CON LOS PARÁMETROS MÁS BÁSICOS PARA GRAFICAR DIRECTAMENTE\n",
    "    plt.plot(valores)\n",
    "    plt.xlabel(eje_x)\n",
    "    plt.ylabel(eje_y)\n",
    "    plt.title(titulo)\n",
    "    plt.show()\n",
    "    "
   ]
  },
  {
   "cell_type": "code",
   "execution_count": null,
   "metadata": {},
   "outputs": [],
   "source": [
    "graficar(datos, \"fecha en dias\", \"precio ajustado de cierre\", \"ACCIONES AMAZON\")"
   ]
  },
  {
   "cell_type": "code",
   "execution_count": null,
   "metadata": {},
   "outputs": [],
   "source": []
  }
 ],
 "metadata": {
  "kernelspec": {
   "display_name": "Python 3",
   "language": "python",
   "name": "python3"
  },
  "language_info": {
   "codemirror_mode": {
    "name": "ipython",
    "version": 3
   },
   "file_extension": ".py",
   "mimetype": "text/x-python",
   "name": "python",
   "nbconvert_exporter": "python",
   "pygments_lexer": "ipython3",
   "version": "3.7.6"
  }
 },
 "nbformat": 4,
 "nbformat_minor": 4
}
